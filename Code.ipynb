{
 "cells": [
  {
   "cell_type": "code",
   "execution_count": 1,
   "id": "8312d5de",
   "metadata": {},
   "outputs": [
    {
     "name": "stdout",
     "output_type": "stream",
     "text": [
      "✅ Tất cả thư viện đã được import thành công!\n"
     ]
    }
   ],
   "source": [
    "# --- CELL 1: THIẾT LẬP VÀ IMPORT THƯ VIỆN ---\n",
    "import pandas as pd\n",
    "import numpy as np\n",
    "import matplotlib.pyplot as plt\n",
    "import seaborn as sns\n",
    "from tqdm import tqdm\n",
    "import warnings\n",
    "import os\n",
    "\n",
    "warnings.filterwarnings(\"ignore\")\n",
    "\n",
    "from xgboost import XGBClassifier\n",
    "from sklearn.metrics import classification_report, roc_auc_score, confusion_matrix, f1_score\n",
    "from sklearn.model_selection import train_test_split\n",
    "\n",
    "import torch\n",
    "import torch.nn as nn\n",
    "from torch.utils.data import Dataset, DataLoader\n",
    "\n",
    "import pytorch_lightning as pl\n",
    "from pytorch_lightning.callbacks import EarlyStopping, ModelCheckpoint\n",
    "from pytorch_forecasting import TimeSeriesDataSet, TemporalFusionTransformer\n",
    "from pytorch_forecasting.data import GroupNormalizer\n",
    "from pytorch_forecasting.metrics import QuantileLoss\n",
    "\n",
    "sns.set_style(\"whitegrid\")\n",
    "plt.rcParams['figure.figsize'] = (14, 7)\n",
    "print(\"✅ Tất cả thư viện đã được import thành công!\")"
   ]
  },
  {
   "cell_type": "code",
   "execution_count": 2,
   "id": "8fb800fd",
   "metadata": {},
   "outputs": [
    {
     "name": "stdout",
     "output_type": "stream",
     "text": [
      "Phát hiện file đã tổng hợp 'aggregated_final_data.parquet'. Đang đọc trực tiếp...\n",
      "✅ Đọc file đã tổng hợp thành công!\n",
      "\n",
      "Kiểm tra các giá trị duy nhất trong cột 'churn':  [1 0]\n"
     ]
    }
   ],
   "source": [
    "# --- CELL 2: ĐỌC VÀ TỔNG HỢP DỮ LIỆU TỪ FILE THÔ ---\n",
    "raw_file_path = r\"C:\\Users\\nguye\\CODE\\TimeSeries\\BTL\\Data\\Time_Data.csv\"\n",
    "aggregated_parquet_path = 'aggregated_final_data.parquet'\n",
    "\n",
    "if os.path.exists(aggregated_parquet_path):\n",
    "    print(f\"Phát hiện file đã tổng hợp '{aggregated_parquet_path}'. Đang đọc trực tiếp...\")\n",
    "    df_agg_final = pd.read_parquet(aggregated_parquet_path)\n",
    "    print(\"✅ Đọc file đã tổng hợp thành công!\")\n",
    "else:\n",
    "    print(\"Không tìm thấy file đã tổng hợp. Bắt đầu xử lý lại từ file CSV 50GB...\")\n",
    "    chunks = pd.read_csv(raw_file_path, chunksize=10000000)\n",
    "    all_chunks = []\n",
    "    for chunk in tqdm(chunks):\n",
    "        chunk['event_time'] = pd.to_datetime(chunk['event_time'])\n",
    "        chunk['month'] = chunk['event_time'].dt.to_period('M').astype(str)\n",
    "        agg = chunk.groupby(['user_id', 'month']).agg(\n",
    "            event_count=('event_time', 'count'), total_spent=('price', 'sum'),\n",
    "            purchase_count=('event_type', lambda x: (x == 'purchase').sum()),\n",
    "            n_categories=('category_code', 'nunique'), churn=('churn', 'max')\n",
    "        ).reset_index()\n",
    "        all_chunks.append(agg)\n",
    "    print(\"Đang gộp các chunk đã xử lý...\")\n",
    "    df_to_agg = pd.concat(all_chunks)\n",
    "    final_aggregation_rules = {\n",
    "        'event_count': 'sum', 'total_spent': 'sum',\n",
    "        'purchase_count': 'sum', 'n_categories': 'sum', 'churn': 'max'\n",
    "    }\n",
    "    df_agg_final = df_to_agg.groupby(['user_id', 'month']).agg(final_aggregation_rules).reset_index()\n",
    "    df_agg_final.to_parquet(aggregated_parquet_path)\n",
    "    print(f\"✅ Dữ liệu đã được tổng hợp và lưu vào '{aggregated_parquet_path}'.\")\n",
    "\n",
    "print(\"\\nKiểm tra các giá trị duy nhất trong cột 'churn': \", df_agg_final['churn'].unique())"
   ]
  },
  {
   "cell_type": "code",
   "execution_count": 3,
   "id": "e0b23cc0",
   "metadata": {},
   "outputs": [
    {
     "name": "stdout",
     "output_type": "stream",
     "text": [
      "\n",
      "Bắt đầu tiền xử lý...\n",
      "✅ Tiền xử lý hoàn tất.\n"
     ]
    }
   ],
   "source": [
    "# --- CELL 3: TIỀN XỬ LÝ ---\n",
    "print(\"\\nBắt đầu tiền xử lý...\")\n",
    "df_processed = df_agg_final.copy()\n",
    "df_processed['month'] = pd.to_datetime(df_processed['month'])\n",
    "df_processed = df_processed.sort_values(by=['user_id', 'month']).reset_index(drop=True)\n",
    "df_processed['time_idx'] = (df_processed['month'].dt.year - df_processed['month'].dt.year.min()) * 12 + df_processed['month'].dt.month - 1\n",
    "df_processed['month_of_year'] = df_processed.month.dt.month.astype(str).astype(\"category\")\n",
    "print(\"✅ Tiền xử lý hoàn tất.\")"
   ]
  },
  {
   "cell_type": "code",
   "execution_count": 4,
   "id": "a50c0894",
   "metadata": {},
   "outputs": [
    {
     "name": "stdout",
     "output_type": "stream",
     "text": [
      "Chia dữ liệu theo thời gian...\n",
      "Tập Train: Tháng 9 đến 12 (10002385 users)\n",
      "Tập Validation: Tháng 13 (4233206 users)\n",
      "Tập Test: Tháng 14 (4114060 users)\n"
     ]
    }
   ],
   "source": [
    "# --- CELL 4: CHIA DỮ LIỆU TRAIN / VALIDATION / TEST ---\n",
    "print(\"Chia dữ liệu theo thời gian...\")\n",
    "max_time_idx = df_processed['time_idx'].max()\n",
    "test_cutoff = max_time_idx\n",
    "val_cutoff = test_cutoff - 1\n",
    "\n",
    "df_train_full = df_processed[df_processed['time_idx'] < val_cutoff]\n",
    "df_val = df_processed[df_processed['time_idx'] == val_cutoff]\n",
    "df_test = df_processed[df_processed['time_idx'] == test_cutoff]\n",
    "\n",
    "print(f\"Tập Train: Tháng {df_train_full['time_idx'].min()} đến {df_train_full['time_idx'].max()} ({df_train_full['user_id'].nunique()} users)\")\n",
    "print(f\"Tập Validation: Tháng {val_cutoff} ({df_val['user_id'].nunique()} users)\")\n",
    "print(f\"Tập Test: Tháng {test_cutoff} ({df_test['user_id'].nunique()} users)\")\n",
    "\n",
    "features = ['event_count', 'total_spent', 'purchase_count', 'n_categories']\n",
    "target = 'churn'"
   ]
  },
  {
   "cell_type": "code",
   "execution_count": 5,
   "id": "1f70b0de",
   "metadata": {},
   "outputs": [
    {
     "name": "stdout",
     "output_type": "stream",
     "text": [
      "\n",
      "Bắt đầu huấn luyện mô hình XGBoost trên GPU...\n",
      "✅ Huấn luyện XGBoost hoàn tất. Số cây tối ưu: 122\n",
      "✅ Mô hình XGBoost đã được lưu vào file: best_xgboost_model.json\n",
      "\n",
      "--- 📊 KẾT QUẢ XGBOOST TRÊN TẬP TEST ---\n",
      "               precision    recall  f1-score   support\n",
      "\n",
      "Non-Churn (0)       0.14      0.62      0.22    240172\n",
      "    Churn (1)       0.97      0.76      0.85   3873888\n",
      "\n",
      "     accuracy                           0.75   4114060\n",
      "    macro avg       0.55      0.69      0.54   4114060\n",
      " weighted avg       0.92      0.75      0.81   4114060\n",
      "\n",
      "🚀 F1-Score: 0.8492\n",
      "🚀 ROC AUC Score: 0.7534\n"
     ]
    },
    {
     "data": {
      "image/png": "[encoded data removed]",
      "text/plain": [
       "<Figure size 600x500 with 2 Axes>"
      ]
     },
     "metadata": {},
     "output_type": "display_data"
    }
   ],
   "source": [
    "# --- CELL 5: MÔ HÌNH 1 - XGBOOST (GPU & LƯU FILE) ---\n",
    "print(\"\\nBắt đầu huấn luyện mô hình XGBoost trên GPU...\")\n",
    "X_train = df_train_full[features]; y_train = df_train_full[target]\n",
    "X_val = df_val[features]; y_val = df_val[target]\n",
    "X_test = df_test[features]; y_test = df_test[target]\n",
    "\n",
    "if 1 in y_train.value_counts() and y_train.value_counts()[1] > 0:\n",
    "    ratio = y_train.value_counts()[0] / y_train.value_counts()[1]\n",
    "else:\n",
    "    ratio = 1\n",
    "\n",
    "xgb_model = XGBClassifier(\n",
    "    objective='binary:logistic', eval_metric='logloss', use_label_encoder=False,\n",
    "    scale_pos_weight=ratio, n_estimators=1000, learning_rate=0.05,\n",
    "    max_depth=6, subsample=0.8, colsample_bytree=0.8,\n",
    "    early_stopping_rounds=50, random_state=42,\n",
    "    tree_method='gpu_hist'\n",
    ")\n",
    "xgb_model.fit(X_train, y_train, eval_set=[(X_val, y_val)], verbose=False)\n",
    "print(f\"✅ Huấn luyện XGBoost hoàn tất. Số cây tối ưu: {xgb_model.best_iteration}\")\n",
    "\n",
    "xgb_model_path = \"best_xgboost_model.json\"\n",
    "xgb_model.save_model(xgb_model_path)\n",
    "print(f\"✅ Mô hình XGBoost đã được lưu vào file: {xgb_model_path}\")\n",
    "\n",
    "y_pred_xgb = xgb_model.predict(X_test); y_proba_xgb = xgb_model.predict_proba(X_test)[:, 1]\n",
    "print(\"\\n--- 📊 KẾT QUẢ XGBOOST TRÊN TẬP TEST ---\")\n",
    "print(classification_report(y_test, y_pred_xgb, target_names=['Non-Churn (0)', 'Churn (1)']))\n",
    "roc_auc_xgb = roc_auc_score(y_test, y_proba_xgb); f1_xgb = f1_score(y_test, y_pred_xgb)\n",
    "print(f\"🚀 F1-Score: {f1_xgb:.4f}\"); print(f\"🚀 ROC AUC Score: {roc_auc_xgb:.4f}\")\n",
    "plt.figure(figsize=(6,5)); cm = confusion_matrix(y_test, y_pred_xgb); sns.heatmap(cm, annot=True, fmt='d', cmap='Blues', xticklabels=['Dự đoán Non-Churn', 'Dự đoán Churn'], yticklabels=['Thực tế Non-Churn', 'Thực tế Churn']); plt.title('Ma trận nhầm lẫn - XGBoost'); plt.show()"
   ]
  },
  {
   "cell_type": "code",
   "execution_count": 6,
   "id": "1dd7275f",
   "metadata": {},
   "outputs": [
    {
     "name": "stderr",
     "output_type": "stream",
     "text": [
      "Tạo sequence (dài 2): 100%|██████████| 10002385/10002385 [1:35:51<00:00, 1739.16it/s]\n",
      "Tạo sequence (dài 2): 100%|██████████| 8962266/8962266 [1:24:08<00:00, 1775.31it/s]\n"
     ]
    },
    {
     "name": "stdout",
     "output_type": "stream",
     "text": [
      "\n",
      "Bắt đầu huấn luyện LSTM trên CUDA...\n",
      "Epoch [1/50], Val Loss: 0.1431\n",
      "Epoch [2/50], Val Loss: 0.1416\n",
      "Epoch [3/50], Val Loss: 0.1411\n",
      "Epoch [4/50], Val Loss: 0.1392\n",
      "Epoch [5/50], Val Loss: 0.1360\n",
      "Epoch [6/50], Val Loss: 0.1342\n",
      "Epoch [7/50], Val Loss: 0.1363\n",
      "Epoch [8/50], Val Loss: 0.1312\n",
      "Epoch [9/50], Val Loss: 0.1309\n",
      "Epoch [10/50], Val Loss: 0.1344\n",
      "Epoch [11/50], Val Loss: 0.1330\n",
      "Epoch [12/50], Val Loss: 0.1360\n",
      "Epoch [13/50], Val Loss: 0.1338\n",
      "Epoch [14/50], Val Loss: 0.1334\n",
      "Early stopping!\n",
      "✅ Huấn luyện LSTM hoàn tất. Mô hình tốt nhất đã được lưu vào 'best_lstm_model.pth'\n",
      "\n",
      "--- 📊 KẾT QUẢ LSTM TRÊN TẬP TEST ---\n",
      "               precision    recall  f1-score   support\n",
      "\n",
      "Non-Churn (0)       0.18      0.54      0.27    108325\n",
      "    Churn (1)       0.92      0.69      0.79    855862\n",
      "\n",
      "     accuracy                           0.68    964187\n",
      "    macro avg       0.55      0.62      0.53    964187\n",
      " weighted avg       0.84      0.68      0.73    964187\n",
      "\n",
      "🚀 F1-Score: 0.7912\n",
      "🚀 ROC AUC Score: 0.6562\n"
     ]
    },
    {
     "data": {
      "image/png": "[encoded data removed]",
      "text/plain": [
       "<Figure size 600x500 with 2 Axes>"
      ]
     },
     "metadata": {},
     "output_type": "display_data"
    }
   ],
   "source": [
    "# --- CELL 6: MÔ HÌNH 2 - LSTM (GPU & LƯU FILE) ---\n",
    "SEQUENCE_LENGTH = 2\n",
    "def create_sequences(df, features, target, sequence_length):\n",
    "    X_seq, y_seq, groups, month_seq = [], [], [], []\n",
    "    user_groups = df.groupby('user_id')\n",
    "    for user_id, group in tqdm(user_groups, desc=f\"Tạo sequence (dài {sequence_length})\"):\n",
    "        data = group[features].values; labels = group[target].values; months = group['month'].values\n",
    "        if len(data) > sequence_length:\n",
    "            for i in range(len(data) - sequence_length):\n",
    "                X_seq.append(data[i:i+sequence_length]); y_seq.append(labels[i+sequence_length]); groups.append(user_id); month_seq.append(months[i+sequence_length])\n",
    "    return np.array(X_seq), np.array(y_seq), np.array(groups), np.array(month_seq)\n",
    "\n",
    "X_train_val, y_train_val, _, _ = create_sequences(df_train_full, features, target, sequence_length=SEQUENCE_LENGTH)\n",
    "df_for_test_seq = df_processed[df_processed.time_idx >= (test_cutoff - SEQUENCE_LENGTH)]\n",
    "X_test_seq, y_test_seq, groups_test_lstm, months_test_lstm = create_sequences(df_for_test_seq, features, target, sequence_length=SEQUENCE_LENGTH)\n",
    "\n",
    "if len(X_train_val) == 0:\n",
    "    print(\"\\nCẢNH BÁO: Không tạo được sequence nào cho LSTM. Bỏ qua việc huấn luyện.\")\n",
    "    roc_auc_lstm, f1_lstm = 0.5, 0.0\n",
    "    df_lstm_results = pd.DataFrame(columns=['user_id', 'LSTM', 'month'])\n",
    "else:\n",
    "    X_train_seq, X_val_seq, y_train_seq, y_val_seq = train_test_split(X_train_val, y_train_val, test_size=0.15, random_state=42, stratify=y_train_val)\n",
    "    X_train_tensor, y_train_tensor = torch.tensor(X_train_seq.astype(np.float32)), torch.tensor(y_train_seq.astype(np.float32)).unsqueeze(1)\n",
    "    X_val_tensor, y_val_tensor = torch.tensor(X_val_seq.astype(np.float32)), torch.tensor(y_val_seq.astype(np.float32)).unsqueeze(1)\n",
    "    X_test_tensor, y_test_tensor = torch.tensor(X_test_seq.astype(np.float32)), torch.tensor(y_test_seq.astype(np.float32)).unsqueeze(1)\n",
    "    class ChurnDataset(Dataset):\n",
    "        def __init__(self, X, y): self.X, self.y = X, y\n",
    "        def __len__(self): return len(self.X)\n",
    "        def __getitem__(self, idx): return self.X[idx], self.y[idx]\n",
    "    train_loader = DataLoader(ChurnDataset(X_train_tensor, y_train_tensor), batch_size=512, shuffle=True)\n",
    "    val_loader = DataLoader(ChurnDataset(X_val_tensor, y_val_tensor), batch_size=512, shuffle=False)\n",
    "    test_loader = DataLoader(ChurnDataset(X_test_tensor, y_test_tensor), batch_size=512, shuffle=False)\n",
    "    class LSTMChurn(nn.Module):\n",
    "        def __init__(self, input_size, hidden_size, n_layers=2):\n",
    "            super().__init__(); self.lstm = nn.LSTM(input_size, hidden_size, n_layers, batch_first=True, dropout=0.3); self.fc = nn.Linear(hidden_size, 1)\n",
    "        def forward(self, x): out, _ = self.lstm(x); out = self.fc(out[:, -1, :]); return out\n",
    "\n",
    "    device = 'cuda' if torch.cuda.is_available() else 'cpu'\n",
    "    model_lstm = LSTMChurn(input_size=len(features), hidden_size=128).to(device)\n",
    "    neg_count = np.sum(y_train_seq == 0); pos_count = np.sum(y_train_seq == 1)\n",
    "    pos_weight = torch.tensor([neg_count / pos_count if pos_count > 0 else 1], dtype=torch.float).to(device)\n",
    "    criterion = nn.BCEWithLogitsLoss(pos_weight=pos_weight)\n",
    "    optimizer = torch.optim.Adam(model_lstm.parameters(), lr=0.001)\n",
    "    patience = 5; best_val_loss = float('inf'); epochs_no_improve = 0;\n",
    "    lstm_model_path = \"best_lstm_model.pth\"\n",
    "\n",
    "    print(f\"\\nBắt đầu huấn luyện LSTM trên {device.upper()}...\")\n",
    "    for epoch in range(50):\n",
    "        model_lstm.train()\n",
    "        for batch_X, batch_y in train_loader:\n",
    "            outputs = model_lstm(batch_X.to(device)); loss = criterion(outputs, batch_y.to(device))\n",
    "            optimizer.zero_grad(); loss.backward(); optimizer.step()\n",
    "        model_lstm.eval(); val_loss = 0\n",
    "        with torch.no_grad():\n",
    "            for batch_X, batch_y in val_loader:\n",
    "                outputs = model_lstm(batch_X.to(device)); val_loss += criterion(outputs, batch_y.to(device)).item()\n",
    "        val_loss /= len(val_loader)\n",
    "        print(f'Epoch [{epoch+1}/50], Val Loss: {val_loss:.4f}')\n",
    "        if val_loss < best_val_loss:\n",
    "            best_val_loss = val_loss; epochs_no_improve = 0; torch.save(model_lstm.state_dict(), lstm_model_path)\n",
    "        else: epochs_no_improve += 1\n",
    "        if epochs_no_improve == patience: print(\"Early stopping!\"); break\n",
    "            \n",
    "    print(f\"✅ Huấn luyện LSTM hoàn tất. Mô hình tốt nhất đã được lưu vào '{lstm_model_path}'\")\n",
    "    model_lstm.load_state_dict(torch.load(lstm_model_path))\n",
    "    \n",
    "    model_lstm.eval(); all_probs_lstm, all_labels_lstm = [], []\n",
    "    with torch.no_grad():\n",
    "        for batch_X, batch_y in test_loader:\n",
    "            outputs = model_lstm(batch_X.to(device)); all_probs_lstm.extend(torch.sigmoid(outputs).cpu().numpy()); all_labels_lstm.extend(batch_y.cpu().numpy())\n",
    "    y_proba_lstm = np.array(all_probs_lstm); y_true_lstm = np.array(all_labels_lstm); y_pred_lstm = (y_proba_lstm > 0.5).astype(int)\n",
    "    df_lstm_results = pd.DataFrame({'user_id': groups_test_lstm, 'LSTM': y_pred_lstm.flatten(), 'month': pd.to_datetime(months_test_lstm)})\n",
    "    print(\"\\n--- 📊 KẾT QUẢ LSTM TRÊN TẬP TEST ---\")\n",
    "    print(classification_report(y_true_lstm, y_pred_lstm, target_names=['Non-Churn (0)', 'Churn (1)'])); roc_auc_lstm = roc_auc_score(y_true_lstm, y_proba_lstm); f1_lstm = f1_score(y_true_lstm, y_pred_lstm)\n",
    "    print(f\"🚀 F1-Score: {f1_lstm:.4f}\"); print(f\"🚀 ROC AUC Score: {roc_auc_lstm:.4f}\")\n",
    "    plt.figure(figsize=(6, 5)); cm_lstm = confusion_matrix(y_true_lstm, y_pred_lstm); sns.heatmap(cm_lstm, annot=True, fmt='d', cmap='Greens', xticklabels=['Dự đoán Non-Churn', 'Dự đoán Churn'], yticklabels=['Thực tế Non-Churn', 'Thực tế Churn']); plt.title('Ma trận nhầm lẫn - LSTM', fontsize=16); plt.xlabel('Dự đoán'); plt.ylabel('Thực tế'); plt.show()"
   ]
  },
  {
   "cell_type": "code",
   "execution_count": 7,
   "id": "99eca99d",
   "metadata": {},
   "outputs": [
    {
     "name": "stdout",
     "output_type": "stream",
     "text": [
      "\n",
      "Chuẩn bị dữ liệu cho TFT...\n",
      "TFT: Lọc từ 13529831 users xuống còn 1489844 users có đủ dữ liệu.\n",
      "\n",
      "✅ Chuẩn bị dữ liệu cho TFT hoàn tất theo cách làm chuẩn.\n"
     ]
    }
   ],
   "source": [
    "# --- CELL 7 (PHIÊN BẢN SỬA LỖI TRIỆT ĐỂ) ---\n",
    "# CHUẨN BỊ DỮ LIỆU CHO TFT\n",
    "\n",
    "print(\"\\nChuẩn bị dữ liệu cho TFT...\")\n",
    "df_tft = df_processed.copy()\n",
    "df_tft.rename(columns={'user_id': 'group'}, inplace=True)\n",
    "df_tft['purchase_count'] = df_tft['purchase_count'].astype(float)\n",
    "\n",
    "max_encoder_length = 3\n",
    "max_prediction_length = 1\n",
    "min_len_tft = max_encoder_length + max_prediction_length\n",
    "\n",
    "user_lengths = df_tft.groupby('group').size()\n",
    "valid_users = user_lengths[user_lengths >= min_len_tft].index\n",
    "df_tft_filtered = df_tft[df_tft['group'].isin(valid_users)]\n",
    "print(f\"TFT: Lọc từ {df_tft['group'].nunique()} users xuống còn {len(valid_users)} users có đủ dữ liệu.\")\n",
    "\n",
    "# === THAY ĐỔI LOGIC TẠO DATASET Ở ĐÂY ===\n",
    "# Tạo một dataset tổng trên toàn bộ dữ liệu hợp lệ\n",
    "# Encoder sẽ học từ tất cả các category có thể có\n",
    "full_dataset = TimeSeriesDataSet(\n",
    "    df_tft_filtered,\n",
    "    time_idx=\"time_idx\",\n",
    "    target=\"purchase_count\",\n",
    "    group_ids=[\"group\"],\n",
    "    min_encoder_length=1, \n",
    "    max_encoder_length=max_encoder_length,\n",
    "    min_prediction_length=max_prediction_length,\n",
    "    max_prediction_length=max_prediction_length,\n",
    "    time_varying_known_categoricals=[\"month_of_year\"],\n",
    "    time_varying_unknown_reals=[\"event_count\", \"total_spent\", \"n_categories\", \"time_idx\"],\n",
    "    target_normalizer=GroupNormalizer(groups=[\"group\"], transformation=\"softplus\"),\n",
    "    add_relative_time_idx=True,\n",
    "    add_target_scales=True,\n",
    "    add_encoder_length=True,\n",
    "    allow_missing_timesteps=True\n",
    ")\n",
    "\n",
    "# Từ dataset tổng, dùng .filter() để tạo tập training\n",
    "training_cutoff = df_tft_filtered[\"time_idx\"].max() - max_prediction_length\n",
    "training_dataset = TimeSeriesDataSet.from_dataset(full_dataset, df_tft_filtered[lambda x: x.time_idx <= training_cutoff], stop_randomization=True)\n",
    "\n",
    "# Tạo dataloader\n",
    "batch_size = 128\n",
    "train_dataloader = training_dataset.to_dataloader(train=True, batch_size=batch_size, num_workers=0)\n",
    "val_dataloader = full_dataset.to_dataloader(train=False, batch_size=batch_size*10, num_workers=0)\n",
    "\n",
    "print(\"\\n✅ Chuẩn bị dữ liệu cho TFT hoàn tất theo cách làm chuẩn.\")"
   ]
  },
  {
   "cell_type": "code",
   "execution_count": null,
   "id": "29a5e4a7",
   "metadata": {},
   "outputs": [
    {
     "name": "stderr",
     "output_type": "stream",
     "text": [
      "Global seed set to 42\n",
      "c:\\Users\\nguye\\anaconda3\\envs\\timeseries_gpu\\lib\\site-packages\\pytorch_lightning\\trainer\\connectors\\accelerator_connector.py:478: LightningDeprecationWarning: Setting `Trainer(gpus=1)` is deprecated in v1.7 and will be removed in v2.0. Please use `Trainer(accelerator='gpu', devices=1)` instead.\n",
      "  rank_zero_deprecation(\n",
      "GPU available: True (cuda), used: True\n",
      "TPU available: False, using: 0 TPU cores\n",
      "IPU available: False, using: 0 IPUs\n",
      "HPU available: False, using: 0 HPUs\n",
      "You are using a CUDA device ('NVIDIA GeForce RTX 4050 Laptop GPU') that has Tensor Cores. To properly utilize them, you should set `torch.set_float32_matmul_precision('medium' | 'high')` which will trade-off precision for performance. For more details, read https://pytorch.org/docs/stable/generated/torch.set_float32_matmul_precision.html#torch.set_float32_matmul_precision\n",
      "LOCAL_RANK: 0 - CUDA_VISIBLE_DEVICES: [0]\n",
      "\n",
      "   | Name                               | Type                            | Params\n",
      "----------------------------------------------------------------------------------------\n",
      "0  | loss                               | QuantileLoss                    | 0     \n",
      "1  | logging_metrics                    | ModuleList                      | 0     \n",
      "2  | input_embeddings                   | MultiEmbedding                  | 24    \n",
      "3  | prescalers                         | ModuleDict                      | 512   \n",
      "4  | static_variable_selection          | VariableSelectionNetwork        | 20.5 K\n",
      "5  | encoder_variable_selection         | VariableSelectionNetwork        | 35.3 K\n",
      "6  | decoder_variable_selection         | VariableSelectionNetwork        | 7.1 K \n",
      "7  | static_context_variable_selection  | GatedResidualNetwork            | 16.8 K\n",
      "8  | static_context_initial_hidden_lstm | GatedResidualNetwork            | 16.8 K\n",
      "9  | static_context_initial_cell_lstm   | GatedResidualNetwork            | 16.8 K\n",
      "10 | static_context_enrichment          | GatedResidualNetwork            | 16.8 K\n",
      "11 | lstm_encoder                       | LSTM                            | 33.3 K\n",
      "12 | lstm_decoder                       | LSTM                            | 33.3 K\n",
      "13 | post_lstm_gate_encoder             | GatedLinearUnit                 | 8.3 K \n",
      "14 | post_lstm_add_norm_encoder         | AddNorm                         | 128   \n",
      "15 | static_enrichment                  | GatedResidualNetwork            | 20.9 K\n",
      "16 | multihead_attn                     | InterpretableMultiHeadAttention | 10.4 K\n",
      "17 | post_attn_gate_norm                | GateAddNorm                     | 8.4 K \n",
      "18 | pos_wise_ff                        | GatedResidualNetwork            | 16.8 K\n",
      "19 | pre_output_gate_norm               | GateAddNorm                     | 8.4 K \n",
      "20 | output_layer                       | Linear                          | 455   \n",
      "----------------------------------------------------------------------------------------\n",
      "270 K     Trainable params\n",
      "0         Non-trainable params\n",
      "270 K     Total params\n",
      "1.081     Total estimated model params size (MB)\n"
     ]
    },
    {
     "name": "stdout",
     "output_type": "stream",
     "text": [
      "\n",
      "Bắt đầu huấn luyện TFT trên GPU...\n",
      "Epoch 0:   8%|▊         | 5000/60296 [3:59:26<44:08:01,  2.87s/it, loss=0.189, v_num=3, train_loss_step=0.289] "
     ]
    },
    {
     "name": "stderr",
     "output_type": "stream",
     "text": [
      "Time limit reached. Elapsed time is 4:02:21. Signaling Trainer to stop.\n"
     ]
    },
    {
     "name": "stdout",
     "output_type": "stream",
     "text": [
      "Epoch 0:  16%|█▋        | 9834/60296 [5:23:35<27:40:29,  1.97s/it, loss=0.193, v_num=3, train_loss_step=0.175]"
     ]
    }
   ],
   "source": [
    "# --- CELL 8: MÔ HÌNH 3 - TFT (GPU & LƯU FILE) ---\n",
    "pl.seed_everything(42)\n",
    "checkpoint_callback = ModelCheckpoint(dirpath=\"tft_checkpoints/\", filename=\"best-tft-model\", save_top_k=1, monitor=\"val_loss\", mode=\"min\")\n",
    "early_stop_callback = EarlyStopping(monitor=\"val_loss\", min_delta=1e-4, patience=10, verbose=False, mode=\"min\")\n",
    "trainer = pl.Trainer(\n",
    "max_time=\"00:04:00:00\",\n",
    "gpus=1,\n",
    "gradient_clip_val=0.1,\n",
    "callbacks=[early_stop_callback, checkpoint_callback]\n",
    ")\n",
    "tft_model = TemporalFusionTransformer.from_dataset(training_dataset, learning_rate=0.01, hidden_size=64, attention_head_size=4,\n",
    "                                                 dropout=0.1, hidden_continuous_size=32, output_size=7, loss=QuantileLoss(),\n",
    "                                                 log_interval=-1, reduce_on_plateau_patience=4)\n",
    "\n",
    "print(f\"\\nBắt đầu huấn luyện TFT trên GPU...\")\n",
    "trainer.fit(tft_model, train_dataloaders=train_dataloader, val_dataloaders=val_dataloader)\n",
    "print(\"✅ Huấn luyện TFT hoàn tất.\")\n",
    "\n",
    "best_model_path = trainer.checkpoint_callback.best_model_path\n",
    "print(f\"✅ Mô hình TFT tốt nhất đã được tự động lưu vào file: {best_model_path}\")\n",
    "best_tft = TemporalFusionTransformer.load_from_checkpoint(best_model_path)\n",
    "\n",
    "test_data_for_tft = df_tft_filtered[lambda x: x.time_idx > training_dataset.data[\"time_idx\"].max() - max_encoder_length]\n",
    "test_dataloader = TimeSeriesDataSet.from_dataset(training_dataset, test_data_for_tft, predict=False, stop_randomization=True).to_dataloader(train=False, batch_size=batch_size*10)\n",
    "predictions_tft_raw = best_tft.predict(test_dataloader, return_y=True, trainer_kwargs=dict(accelerator=\"auto\"))\n",
    "predictions_tft = predictions_tft_raw.output.squeeze().cpu().numpy()\n",
    "df_test_tft = test_data_for_tft[test_data_for_tft.time_idx > training_dataset.data[\"time_idx\"].max()].copy()\n",
    "df_test_tft['predicted_purchase'] = predictions_tft\n",
    "y_true_tft = df_test_tft['churn']; y_pred_tft = (df_test_tft['predicted_purchase'] <= 0.5).astype(int); y_proba_tft = 1 / (1 + np.exp(-df_test_tft['predicted_purchase']))\n",
    "print(\"\\n--- 📊 KẾT QUẢ TFT TRÊN TẬP TEST ---\")\n",
    "print(classification_report(y_true_tft, y_pred_tft)); roc_auc_tft = roc_auc_score(y_true_tft, y_proba_tft); f1_tft = f1_score(y_true_tft, y_pred_tft)\n",
    "print(f\"🚀 F1-Score: {f1_tft:.4f}\"); print(f\"🚀 ROC AUC Score: {roc_auc_tft:.4f}\")\n",
    "plt.figure(figsize=(6, 5)); cm_tft = confusion_matrix(y_true_tft, y_pred_tft); sns.heatmap(cm_tft, annot=True, fmt='d', cmap='Oranges', xticklabels=['Dự đoán Non-Churn', 'Dự đoán Churn'], yticklabels=['Thực tế Non-Churn', 'Thực tế Churn']); plt.title('Ma trận nhầm lẫn - TFT', fontsize=16); plt.xlabel('Dự đoán'); plt.ylabel('Thực tế'); plt.show()"
   ]
  },
  {
   "cell_type": "code",
   "execution_count": null,
   "id": "c9397418",
   "metadata": {},
   "outputs": [],
   "source": [
    "# --- CELL 9: SO SÁNH KẾT QUẢ CÁC MÔ HÌNH ---\n",
    "print(\"\\nTổng hợp kết quả từ 3 mô hình trên tập Test...\")\n",
    "if 'roc_auc_lstm' not in locals(): roc_auc_lstm, f1_lstm = 0.5, 0.0\n",
    "if 'roc_auc_tft' not in locals(): roc_auc_tft, f1_tft = 0.5, 0.0\n",
    "results = pd.DataFrame({'Model': ['XGBoost', 'LSTM', 'TFT'], 'ROC AUC': [roc_auc_xgb, roc_auc_lstm, roc_auc_tft], 'F1-Score (for Churn=1)': [f1_xgb, f1_lstm, f1_tft]})\n",
    "results = results.sort_values(by='ROC AUC', ascending=False).reset_index(drop=True)\n",
    "print(\"\\nBảng so sánh hiệu suất:\")\n",
    "print(results)\n",
    "plt.figure(figsize=(16, 6)); plt.subplot(1, 2, 1); sns.barplot(data=results, x='Model', y='ROC AUC', palette='mako'); plt.title('So sánh ROC AUC Score', fontsize=16)\n",
    "plt.subplot(1, 2, 2); sns.barplot(data=results, x='Model', y='F1-Score (for Churn=1)', palette='rocket'); plt.title('So sánh F1-Score (cho lớp Churn)', fontsize=16); plt.tight_layout(); plt.show()"
   ]
  },
  {
   "cell_type": "code",
   "execution_count": null,
   "id": "aec90c1b",
   "metadata": {},
   "outputs": [],
   "source": [
    "# --- CELL 10: TRỰC QUAN HÓA SO SÁNH THEO THỜI GIAN ---\n",
    "print(\"\\nBắt đầu tổng hợp kết quả để trực quan hóa...\")\n",
    "actual_churn_rate = df_processed.groupby('month')['churn'].mean().reset_index(); actual_churn_rate.rename(columns={'churn': 'Thực tế'}, inplace=True)\n",
    "xgb_results_df = df_test[['month']].copy(); xgb_results_df['XGBoost'] = y_pred_xgb; xgb_predicted_rate = xgb_results_df.groupby('month')['XGBoost'].mean().reset_index()\n",
    "if 'df_lstm_results' in locals() and not df_lstm_results.empty: lstm_predicted_rate = df_lstm_results.groupby('month')['LSTM'].mean().reset_index()\n",
    "else: lstm_predicted_rate = pd.DataFrame(columns=['month', 'LSTM'])\n",
    "if 'df_test_tft' in locals() and not df_test_tft.empty: df_test_tft['TFT'] = y_pred_tft; tft_predicted_rate = df_test_tft.groupby('month')['TFT'].mean().reset_index()\n",
    "else: tft_predicted_rate = pd.DataFrame(columns=['month', 'TFT'])\n",
    "\n",
    "final_plot_df = actual_churn_rate.set_index('month')\n",
    "plot_data_list = [xgb_predicted_rate, lstm_predicted_rate, tft_predicted_rate]\n",
    "for df in plot_data_list:\n",
    "    if not df.empty:\n",
    "        df = df.set_index('month'); final_plot_df = final_plot_df.merge(df, on='month', how='left')\n",
    "\n",
    "plt.figure(figsize=(20, 10))\n",
    "plt.plot(final_plot_df.index, final_plot_df['Thực tế'], label='Thực tế', color='black', linewidth=2.5, zorder=5)\n",
    "for model_col, color, marker, ls in zip(['XGBoost', 'LSTM', 'TFT'], ['blue', 'magenta', 'green'], ['o', 's', '^'], ['--', ':', '-.']):\n",
    "    subset = final_plot_df[[model_col]].dropna()\n",
    "    if not subset.empty:\n",
    "         plt.plot(subset.index, subset[model_col], label=model_col, color=color, marker=marker, linestyle='None', markersize=10)\n",
    "plt.title('So sánh Tỷ lệ Churn Thực tế và Dự báo', fontsize=20)\n",
    "plt.xlabel('Ngày'); plt.ylabel('Tỷ lệ churn'); plt.legend(fontsize=12, loc='best'); plt.grid(True, which='both', linestyle='--', linewidth=0.5)\n",
    "plt.show()\n"
   ]
  }
 ],
 "metadata": {
  "kernelspec": {
   "display_name": "timeseries_gpu",
   "language": "python",
   "name": "python3"
  },
  "language_info": {
   "codemirror_mode": {
    "name": "ipython",
    "version": 3
   },
   "file_extension": ".py",
   "mimetype": "text/x-python",
   "name": "python",
   "nbconvert_exporter": "python",
   "pygments_lexer": "ipython3",
   "version": "3.10.16"
  }
 },
 "nbformat": 4,
 "nbformat_minor": 5
}
